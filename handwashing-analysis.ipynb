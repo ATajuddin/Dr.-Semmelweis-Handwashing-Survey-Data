{
 "cells": [
  {
   "cell_type": "markdown",
   "id": "f44e5e72",
   "metadata": {
    "papermill": {
     "duration": 0.011804,
     "end_time": "2021-11-30T18:27:08.049011",
     "exception": false,
     "start_time": "2021-11-30T18:27:08.037207",
     "status": "completed"
    },
    "tags": []
   },
   "source": [
    "# 1. Meet Dr. Ignaz Semmelweis\n",
    "<p><img style=\"float: left;margin:5px 20px 5px 1px\" src=\"https://assets.datacamp.com/production/project_20/img/ignaz_semmelweis_1860.jpeg\"></p>\n",
    "<!--\n",
    "<img style=\"float: left;margin:5px 20px 5px 1px\" src=\"https://assets.datacamp.com/production/project_20/datasets/ignaz_semmelweis_1860.jpeg\">\n",
    "-->\n",
    "<p>This is Dr. Ignaz Semmelweis, a Hungarian physician born in 1818 and active at the Vienna General Hospital. If Dr. Semmelweis looks troubled it's probably because he's thinking about <em>childbed fever</em>: A deadly disease affecting women that just have given birth. He is thinking about it because in the early 1840s at the Vienna General Hospital as many as 10% of the women giving birth die from it. He is thinking about it because he knows the cause of childbed fever: It's the contaminated hands of the doctors delivering the babies. And they won't listen to him and <em>wash their hands</em>!</p>\n",
    "<p>In this notebook, we're going to reanalyze the data that made Semmelweis discover the importance of <em>handwashing</em>. Let's start by looking at the data that made Semmelweis realize that something was wrong with the procedures at Vienna General Hospital.</p>"
   ]
  },
  {
   "cell_type": "code",
   "execution_count": 1,
   "id": "809d689f",
   "metadata": {
    "_cell_guid": "b1076dfc-b9ad-4769-8c92-a6c4dae69d19",
    "_uuid": "8f2839f25d086af736a60e9eeb907d3b93b6e0e5",
    "execution": {
     "iopub.execute_input": "2021-11-30T18:27:08.075599Z",
     "iopub.status.busy": "2021-11-30T18:27:08.074429Z",
     "iopub.status.idle": "2021-11-30T18:27:08.096180Z",
     "shell.execute_reply": "2021-11-30T18:27:08.095455Z",
     "shell.execute_reply.started": "2021-11-30T18:21:00.270571Z"
    },
    "papermill": {
     "duration": 0.03643,
     "end_time": "2021-11-30T18:27:08.096342",
     "exception": false,
     "start_time": "2021-11-30T18:27:08.059912",
     "status": "completed"
    },
    "tags": []
   },
   "outputs": [
    {
     "name": "stdout",
     "output_type": "stream",
     "text": [
      "/kaggle/input/survey-data/monthly_deaths.csv\n",
      "/kaggle/input/survey-data/yearly_deaths_by_clinic.csv\n"
     ]
    }
   ],
   "source": [
    "# This Python 3 environment comes with many helpful analytics libraries installed\n",
    "# It is defined by the kaggle/python Docker image: https://github.com/kaggle/docker-python\n",
    "# For example, here's several helpful packages to load\n",
    "\n",
    "import numpy as np # linear algebra\n",
    "import pandas as pd # data processing, CSV file I/O (e.g. pd.read_csv)\n",
    "\n",
    "# Input data files are available in the read-only \"../input/\" directory\n",
    "# For example, running this (by clicking run or pressing Shift+Enter) will list all files under the input directory\n",
    "\n",
    "import os\n",
    "for dirname, _, filenames in os.walk('/kaggle/input'):\n",
    "    for filename in filenames:\n",
    "        print(os.path.join(dirname, filename))\n",
    "\n",
    "# You can write up to 20GB to the current directory (/kaggle/working/) that gets preserved as output when you create a version using \"Save & Run All\" \n",
    "# You can also write temporary files to /kaggle/temp/, but they won't be saved outside of the current session"
   ]
  },
  {
   "cell_type": "code",
   "execution_count": 2,
   "id": "d6eb8747",
   "metadata": {
    "collapsed": true,
    "execution": {
     "iopub.execute_input": "2021-11-30T18:27:08.127929Z",
     "iopub.status.busy": "2021-11-30T18:27:08.125788Z",
     "iopub.status.idle": "2021-11-30T18:27:08.145967Z",
     "shell.execute_reply": "2021-11-30T18:27:08.146562Z",
     "shell.execute_reply.started": "2021-11-30T18:21:26.271665Z"
    },
    "jupyter": {
     "outputs_hidden": true
    },
    "papermill": {
     "duration": 0.03659,
     "end_time": "2021-11-30T18:27:08.146753",
     "exception": false,
     "start_time": "2021-11-30T18:27:08.110163",
     "status": "completed"
    },
    "tags": []
   },
   "outputs": [
    {
     "name": "stdout",
     "output_type": "stream",
     "text": [
      "    year  births  deaths    clinic\n",
      "0   1841    3036     237  clinic 1\n",
      "1   1842    3287     518  clinic 1\n",
      "2   1843    3060     274  clinic 1\n",
      "3   1844    3157     260  clinic 1\n",
      "4   1845    3492     241  clinic 1\n",
      "5   1846    4010     459  clinic 1\n",
      "6   1841    2442      86  clinic 2\n",
      "7   1842    2659     202  clinic 2\n",
      "8   1843    2739     164  clinic 2\n",
      "9   1844    2956      68  clinic 2\n",
      "10  1845    3241      66  clinic 2\n",
      "11  1846    3754     105  clinic 2\n"
     ]
    }
   ],
   "source": [
    "# Importing modules\n",
    "import pandas as pd \n",
    "# Read datasets/yearly_deaths_by_clinic.csv into yearly\n",
    "yearly = pd.read_csv('../input/survey-data/yearly_deaths_by_clinic.csv')\n",
    "\n",
    "\n",
    "# Print out yearly\n",
    "print(yearly)"
   ]
  },
  {
   "cell_type": "markdown",
   "id": "df4d8c56",
   "metadata": {
    "papermill": {
     "duration": 0.011555,
     "end_time": "2021-11-30T18:27:08.170968",
     "exception": false,
     "start_time": "2021-11-30T18:27:08.159413",
     "status": "completed"
    },
    "tags": []
   },
   "source": [
    "# 2. The alarming number of deaths\n",
    "<p>The table above shows the number of women giving birth at the two clinics at the Vienna General Hospital for the years 1841 to 1846. You'll notice that giving birth was very dangerous; an <em>alarming</em> number of women died as the result of childbirth, most of them from childbed fever.</p>\n",
    "<p>We see this more clearly if we look at the <em>proportion of deaths</em> out of the number of women giving birth. Let's zoom in on the proportion of deaths at Clinic 1.</p>"
   ]
  },
  {
   "cell_type": "code",
   "execution_count": 3,
   "id": "81eaa106",
   "metadata": {
    "execution": {
     "iopub.execute_input": "2021-11-30T18:27:08.197923Z",
     "iopub.status.busy": "2021-11-30T18:27:08.197387Z",
     "iopub.status.idle": "2021-11-30T18:27:08.225785Z",
     "shell.execute_reply": "2021-11-30T18:27:08.226518Z",
     "shell.execute_reply.started": "2021-11-30T18:21:59.256310Z"
    },
    "papermill": {
     "duration": 0.044128,
     "end_time": "2021-11-30T18:27:08.226703",
     "exception": false,
     "start_time": "2021-11-30T18:27:08.182575",
     "status": "completed"
    },
    "tags": []
   },
   "outputs": [
    {
     "name": "stdout",
     "output_type": "stream",
     "text": [
      "    year  births  deaths    clinic  proportion_deaths\n",
      "0   1841    3036     237  clinic 1           0.078063\n",
      "1   1842    3287     518  clinic 1           0.157591\n",
      "2   1843    3060     274  clinic 1           0.089542\n",
      "3   1844    3157     260  clinic 1           0.082357\n",
      "4   1845    3492     241  clinic 1           0.069015\n",
      "5   1846    4010     459  clinic 1           0.114464\n",
      "6   1841    2442      86  clinic 2           0.035217\n",
      "7   1842    2659     202  clinic 2           0.075968\n",
      "8   1843    2739     164  clinic 2           0.059876\n",
      "9   1844    2956      68  clinic 2           0.023004\n",
      "10  1845    3241      66  clinic 2           0.020364\n",
      "11  1846    3754     105  clinic 2           0.027970\n"
     ]
    },
    {
     "data": {
      "text/html": [
       "<div>\n",
       "<style scoped>\n",
       "    .dataframe tbody tr th:only-of-type {\n",
       "        vertical-align: middle;\n",
       "    }\n",
       "\n",
       "    .dataframe tbody tr th {\n",
       "        vertical-align: top;\n",
       "    }\n",
       "\n",
       "    .dataframe thead th {\n",
       "        text-align: right;\n",
       "    }\n",
       "</style>\n",
       "<table border=\"1\" class=\"dataframe\">\n",
       "  <thead>\n",
       "    <tr style=\"text-align: right;\">\n",
       "      <th></th>\n",
       "      <th>year</th>\n",
       "      <th>births</th>\n",
       "      <th>deaths</th>\n",
       "      <th>clinic</th>\n",
       "      <th>proportion_deaths</th>\n",
       "    </tr>\n",
       "  </thead>\n",
       "  <tbody>\n",
       "    <tr>\n",
       "      <th>0</th>\n",
       "      <td>1841</td>\n",
       "      <td>3036</td>\n",
       "      <td>237</td>\n",
       "      <td>clinic 1</td>\n",
       "      <td>0.078063</td>\n",
       "    </tr>\n",
       "    <tr>\n",
       "      <th>1</th>\n",
       "      <td>1842</td>\n",
       "      <td>3287</td>\n",
       "      <td>518</td>\n",
       "      <td>clinic 1</td>\n",
       "      <td>0.157591</td>\n",
       "    </tr>\n",
       "    <tr>\n",
       "      <th>2</th>\n",
       "      <td>1843</td>\n",
       "      <td>3060</td>\n",
       "      <td>274</td>\n",
       "      <td>clinic 1</td>\n",
       "      <td>0.089542</td>\n",
       "    </tr>\n",
       "    <tr>\n",
       "      <th>3</th>\n",
       "      <td>1844</td>\n",
       "      <td>3157</td>\n",
       "      <td>260</td>\n",
       "      <td>clinic 1</td>\n",
       "      <td>0.082357</td>\n",
       "    </tr>\n",
       "    <tr>\n",
       "      <th>4</th>\n",
       "      <td>1845</td>\n",
       "      <td>3492</td>\n",
       "      <td>241</td>\n",
       "      <td>clinic 1</td>\n",
       "      <td>0.069015</td>\n",
       "    </tr>\n",
       "    <tr>\n",
       "      <th>5</th>\n",
       "      <td>1846</td>\n",
       "      <td>4010</td>\n",
       "      <td>459</td>\n",
       "      <td>clinic 1</td>\n",
       "      <td>0.114464</td>\n",
       "    </tr>\n",
       "  </tbody>\n",
       "</table>\n",
       "</div>"
      ],
      "text/plain": [
       "   year  births  deaths    clinic  proportion_deaths\n",
       "0  1841    3036     237  clinic 1           0.078063\n",
       "1  1842    3287     518  clinic 1           0.157591\n",
       "2  1843    3060     274  clinic 1           0.089542\n",
       "3  1844    3157     260  clinic 1           0.082357\n",
       "4  1845    3492     241  clinic 1           0.069015\n",
       "5  1846    4010     459  clinic 1           0.114464"
      ]
     },
     "execution_count": 3,
     "metadata": {},
     "output_type": "execute_result"
    }
   ],
   "source": [
    "# Calculate proportion of deaths per no. births\n",
    "yearly['proportion_deaths'] = yearly['deaths'] /  yearly['births']\n",
    "print(yearly)\n",
    "# Extract Clinic 1 data into clinic_1 and Clinic 2 data into clinic_2\n",
    "clinic_1 = yearly[yearly['clinic'] == 'clinic 1']\n",
    "clinic_2 = yearly[yearly['clinic'] == 'clinic 2']\n",
    "\n",
    "# Print out clinic_1\n",
    "clinic_1"
   ]
  },
  {
   "cell_type": "markdown",
   "id": "9ec7958b",
   "metadata": {
    "papermill": {
     "duration": 0.012082,
     "end_time": "2021-11-30T18:27:08.251503",
     "exception": false,
     "start_time": "2021-11-30T18:27:08.239421",
     "status": "completed"
    },
    "tags": []
   },
   "source": [
    "# 3. Death at the clinics\n",
    "<p>If we now plot the proportion of deaths at both Clinic 1 and Clinic 2  we'll see a curious pattern…</p>"
   ]
  },
  {
   "cell_type": "code",
   "execution_count": 4,
   "id": "ba2b1fdf",
   "metadata": {
    "execution": {
     "iopub.execute_input": "2021-11-30T18:27:08.282550Z",
     "iopub.status.busy": "2021-11-30T18:27:08.281640Z",
     "iopub.status.idle": "2021-11-30T18:27:08.558532Z",
     "shell.execute_reply": "2021-11-30T18:27:08.558009Z",
     "shell.execute_reply.started": "2021-11-30T18:22:22.226810Z"
    },
    "papermill": {
     "duration": 0.291685,
     "end_time": "2021-11-30T18:27:08.558642",
     "exception": false,
     "start_time": "2021-11-30T18:27:08.266957",
     "status": "completed"
    },
    "tags": []
   },
   "outputs": [
    {
     "data": {
      "text/plain": [
       "Text(0, 0.5, 'Proportion deaths')"
      ]
     },
     "execution_count": 4,
     "metadata": {},
     "output_type": "execute_result"
    },
    {
     "data": {
      "image/png": "[encoded data removed]",
      "text/plain": [
       "<Figure size 432x288 with 1 Axes>"
      ]
     },
     "metadata": {
      "needs_background": "light"
     },
     "output_type": "display_data"
    }
   ],
   "source": [
    "# This makes plots appear in the notebook\n",
    "%matplotlib inline\n",
    "import matplotlib.pyplot as plt \n",
    "# Plot yearly proportion of deaths at the two clinics\n",
    "ax = clinic_1.plot(x='year',y='proportion_deaths',label='Clinic 1')\n",
    "clinic_2.plot(x='year',y='proportion_deaths', label='Clinic 2', ax=ax)\n",
    "plt.ylabel('Proportion deaths') "
   ]
  },
  {
   "cell_type": "markdown",
   "id": "86f750eb",
   "metadata": {
    "papermill": {
     "duration": 0.01307,
     "end_time": "2021-11-30T18:27:08.585238",
     "exception": false,
     "start_time": "2021-11-30T18:27:08.572168",
     "status": "completed"
    },
    "tags": []
   },
   "source": [
    "# 4. The handwashing begins\n",
    "<p>Why is the proportion of deaths consistently so much higher in Clinic 1? Semmelweis saw the same pattern and was puzzled and distressed. The only difference between the clinics was that many medical students served at Clinic 1, while mostly midwife students served at Clinic 2. While the midwives only tended to the women giving birth, the medical students also spent time in the autopsy rooms examining corpses. </p>\n",
    "<p>Semmelweis started to suspect that something on the corpses spread from the hands of the medical students, caused childbed fever. So in a desperate attempt to stop the high mortality rates, he decreed: <em>Wash your hands!</em> This was an unorthodox and controversial request, nobody in Vienna knew about bacteria at this point in time. </p>\n",
    "<p>Let's load in monthly data from Clinic 1 to see if the handwashing had any effect.</p>"
   ]
  },
  {
   "cell_type": "code",
   "execution_count": 5,
   "id": "8b776307",
   "metadata": {
    "execution": {
     "iopub.execute_input": "2021-11-30T18:27:08.616978Z",
     "iopub.status.busy": "2021-11-30T18:27:08.616408Z",
     "iopub.status.idle": "2021-11-30T18:27:08.631111Z",
     "shell.execute_reply": "2021-11-30T18:27:08.631529Z",
     "shell.execute_reply.started": "2021-11-30T18:23:07.587497Z"
    },
    "papermill": {
     "duration": 0.033232,
     "end_time": "2021-11-30T18:27:08.631748",
     "exception": false,
     "start_time": "2021-11-30T18:27:08.598516",
     "status": "completed"
    },
    "tags": []
   },
   "outputs": [
    {
     "data": {
      "text/html": [
       "<div>\n",
       "<style scoped>\n",
       "    .dataframe tbody tr th:only-of-type {\n",
       "        vertical-align: middle;\n",
       "    }\n",
       "\n",
       "    .dataframe tbody tr th {\n",
       "        vertical-align: top;\n",
       "    }\n",
       "\n",
       "    .dataframe thead th {\n",
       "        text-align: right;\n",
       "    }\n",
       "</style>\n",
       "<table border=\"1\" class=\"dataframe\">\n",
       "  <thead>\n",
       "    <tr style=\"text-align: right;\">\n",
       "      <th></th>\n",
       "      <th>date</th>\n",
       "      <th>births</th>\n",
       "      <th>deaths</th>\n",
       "      <th>proportion_deaths</th>\n",
       "    </tr>\n",
       "  </thead>\n",
       "  <tbody>\n",
       "    <tr>\n",
       "      <th>0</th>\n",
       "      <td>1841-01-01</td>\n",
       "      <td>254</td>\n",
       "      <td>37</td>\n",
       "      <td>0.145669</td>\n",
       "    </tr>\n",
       "    <tr>\n",
       "      <th>1</th>\n",
       "      <td>1841-02-01</td>\n",
       "      <td>239</td>\n",
       "      <td>18</td>\n",
       "      <td>0.075314</td>\n",
       "    </tr>\n",
       "    <tr>\n",
       "      <th>2</th>\n",
       "      <td>1841-03-01</td>\n",
       "      <td>277</td>\n",
       "      <td>12</td>\n",
       "      <td>0.043321</td>\n",
       "    </tr>\n",
       "    <tr>\n",
       "      <th>3</th>\n",
       "      <td>1841-04-01</td>\n",
       "      <td>255</td>\n",
       "      <td>4</td>\n",
       "      <td>0.015686</td>\n",
       "    </tr>\n",
       "    <tr>\n",
       "      <th>4</th>\n",
       "      <td>1841-05-01</td>\n",
       "      <td>255</td>\n",
       "      <td>2</td>\n",
       "      <td>0.007843</td>\n",
       "    </tr>\n",
       "  </tbody>\n",
       "</table>\n",
       "</div>"
      ],
      "text/plain": [
       "        date  births  deaths  proportion_deaths\n",
       "0 1841-01-01     254      37           0.145669\n",
       "1 1841-02-01     239      18           0.075314\n",
       "2 1841-03-01     277      12           0.043321\n",
       "3 1841-04-01     255       4           0.015686\n",
       "4 1841-05-01     255       2           0.007843"
      ]
     },
     "execution_count": 5,
     "metadata": {},
     "output_type": "execute_result"
    }
   ],
   "source": [
    "# Read datasets/monthly_deaths.csv into monthly\n",
    "monthly = pd.read_csv('../input/survey-data/monthly_deaths.csv', \n",
    "    parse_dates=[\"date\"])\n",
    "# Calculate proportion of deaths per no. births\n",
    "monthly['proportion_deaths']= monthly.deaths / monthly.births\n",
    "# Print out the first rows in monthly\n",
    "monthly.head()"
   ]
  },
  {
   "cell_type": "markdown",
   "id": "b9c791ac",
   "metadata": {
    "papermill": {
     "duration": 0.014741,
     "end_time": "2021-11-30T18:27:08.660760",
     "exception": false,
     "start_time": "2021-11-30T18:27:08.646019",
     "status": "completed"
    },
    "tags": []
   },
   "source": [
    "# 5. The effect of handwashing\n",
    "<p>With the data loaded we can now look at the proportion of deaths over time. In the plot below we haven't marked where obligatory handwashing started, but it reduced the proportion of deaths to such a degree that you should be able to spot it!</p>"
   ]
  },
  {
   "cell_type": "code",
   "execution_count": 6,
   "id": "5b024f22",
   "metadata": {
    "execution": {
     "iopub.execute_input": "2021-11-30T18:27:08.692172Z",
     "iopub.status.busy": "2021-11-30T18:27:08.691644Z",
     "iopub.status.idle": "2021-11-30T18:27:08.918850Z",
     "shell.execute_reply": "2021-11-30T18:27:08.919367Z",
     "shell.execute_reply.started": "2021-11-30T18:23:24.815974Z"
    },
    "papermill": {
     "duration": 0.244568,
     "end_time": "2021-11-30T18:27:08.919536",
     "exception": false,
     "start_time": "2021-11-30T18:27:08.674968",
     "status": "completed"
    },
    "tags": []
   },
   "outputs": [
    {
     "data": {
      "text/plain": [
       "Text(0, 0.5, 'Proportion deaths')"
      ]
     },
     "execution_count": 6,
     "metadata": {},
     "output_type": "execute_result"
    },
    {
     "data": {
      "image/png": "[encoded data removed]",
      "text/plain": [
       "<Figure size 432x288 with 1 Axes>"
      ]
     },
     "metadata": {
      "needs_background": "light"
     },
     "output_type": "display_data"
    }
   ],
   "source": [
    "# Plot monthly proportion of deaths\n",
    "ax = monthly.plot(x='date',y='proportion_deaths')\n",
    "plt.ylabel('Proportion deaths') "
   ]
  },
  {
   "cell_type": "markdown",
   "id": "76b73005",
   "metadata": {
    "papermill": {
     "duration": 0.021288,
     "end_time": "2021-11-30T18:27:08.962342",
     "exception": false,
     "start_time": "2021-11-30T18:27:08.941054",
     "status": "completed"
    },
    "tags": []
   },
   "source": [
    "# 6. The effect of handwashing highlighted\n",
    "<p>Starting from the summer of 1847 the proportion of deaths is drastically reduced and, yes, this was when Semmelweis made handwashing obligatory. </p>\n",
    "<p>The effect of handwashing is made even more clear if we highlight this in the graph.</p>"
   ]
  },
  {
   "cell_type": "code",
   "execution_count": 7,
   "id": "ae5e79c6",
   "metadata": {
    "execution": {
     "iopub.execute_input": "2021-11-30T18:27:09.019383Z",
     "iopub.status.busy": "2021-11-30T18:27:09.018648Z",
     "iopub.status.idle": "2021-11-30T18:27:09.248900Z",
     "shell.execute_reply": "2021-11-30T18:27:09.249254Z",
     "shell.execute_reply.started": "2021-11-30T18:23:46.732583Z"
    },
    "papermill": {
     "duration": 0.265321,
     "end_time": "2021-11-30T18:27:09.249392",
     "exception": false,
     "start_time": "2021-11-30T18:27:08.984071",
     "status": "completed"
    },
    "tags": []
   },
   "outputs": [
    {
     "data": {
      "text/plain": [
       "Text(0, 0.5, 'Proportion deaths')"
      ]
     },
     "execution_count": 7,
     "metadata": {},
     "output_type": "execute_result"
    },
    {
     "data": {
      "image/png": "[encoded data removed]",
      "text/plain": [
       "<Figure size 432x288 with 1 Axes>"
      ]
     },
     "metadata": {
      "needs_background": "light"
     },
     "output_type": "display_data"
    }
   ],
   "source": [
    "# Date when handwashing was made mandatory\n",
    "handwashing_start = pd.to_datetime('1847-06-01')\n",
    "\n",
    "# Split monthly into before and after handwashing_start\n",
    "before_washing = monthly[monthly['date']< handwashing_start]\n",
    "after_washing = monthly[monthly['date']>= handwashing_start]\n",
    "\n",
    "# Plot monthly proportion of deaths before and after handwashing\n",
    "ax= before_washing.plot(x = 'date', y= 'proportion_deaths', label = 'before')\n",
    "after_washing.plot(x= 'date', y='proportion_deaths',label= 'after',  ax =ax) \n",
    "plt.ylabel('Proportion deaths')"
   ]
  },
  {
   "cell_type": "markdown",
   "id": "acc83207",
   "metadata": {
    "papermill": {
     "duration": 0.015013,
     "end_time": "2021-11-30T18:27:09.280132",
     "exception": false,
     "start_time": "2021-11-30T18:27:09.265119",
     "status": "completed"
    },
    "tags": []
   },
   "source": [
    "# 7. More handwashing, fewer deaths?\n",
    "<p>Again, the graph shows that handwashing had a huge effect. How much did it reduce the monthly proportion of deaths on average?</p>"
   ]
  },
  {
   "cell_type": "code",
   "execution_count": 8,
   "id": "87b7d344",
   "metadata": {
    "execution": {
     "iopub.execute_input": "2021-11-30T18:27:09.313793Z",
     "iopub.status.busy": "2021-11-30T18:27:09.313182Z",
     "iopub.status.idle": "2021-11-30T18:27:09.319397Z",
     "shell.execute_reply": "2021-11-30T18:27:09.319881Z",
     "shell.execute_reply.started": "2021-11-30T18:24:32.090386Z"
    },
    "papermill": {
     "duration": 0.024491,
     "end_time": "2021-11-30T18:27:09.320011",
     "exception": false,
     "start_time": "2021-11-30T18:27:09.295520",
     "status": "completed"
    },
    "tags": []
   },
   "outputs": [
    {
     "data": {
      "text/plain": [
       "-0.0839566075118334"
      ]
     },
     "execution_count": 8,
     "metadata": {},
     "output_type": "execute_result"
    }
   ],
   "source": [
    "# Difference in mean monthly proportion of deaths due to handwashing\n",
    "before_proportion = before_washing['proportion_deaths']\n",
    "after_proportion = after_washing['proportion_deaths']\n",
    "\n",
    "mean_diff = after_proportion.mean()  -before_proportion.mean()\n",
    "mean_diff"
   ]
  },
  {
   "cell_type": "markdown",
   "id": "590c90fe",
   "metadata": {
    "papermill": {
     "duration": 0.015562,
     "end_time": "2021-11-30T18:27:09.351360",
     "exception": false,
     "start_time": "2021-11-30T18:27:09.335798",
     "status": "completed"
    },
    "tags": []
   },
   "source": [
    "# 8. A Bootstrap analysis of Semmelweis handwashing data\n",
    "<p>It reduced the proportion of deaths by around 8 percentage points! From 10% on average to just 2% (which is still a high number by modern standards). </p>\n",
    "<p>To get a feeling for the uncertainty around how much handwashing reduces mortalities we could look at a confidence interval (here calculated using the bootstrap method).</p>"
   ]
  },
  {
   "cell_type": "code",
   "execution_count": 9,
   "id": "a66c73ac",
   "metadata": {
    "execution": {
     "iopub.execute_input": "2021-11-30T18:27:09.385587Z",
     "iopub.status.busy": "2021-11-30T18:27:09.384980Z",
     "iopub.status.idle": "2021-11-30T18:27:10.109008Z",
     "shell.execute_reply": "2021-11-30T18:27:10.109746Z",
     "shell.execute_reply.started": "2021-11-30T18:24:34.217858Z"
    },
    "papermill": {
     "duration": 0.743087,
     "end_time": "2021-11-30T18:27:10.109990",
     "exception": false,
     "start_time": "2021-11-30T18:27:09.366903",
     "status": "completed"
    },
    "tags": []
   },
   "outputs": [
    {
     "data": {
      "text/plain": [
       "0.025    0.067035\n",
       "0.975    0.101493\n",
       "dtype: float64"
      ]
     },
     "execution_count": 9,
     "metadata": {},
     "output_type": "execute_result"
    }
   ],
   "source": [
    "# A bootstrap analysis of the reduction of deaths due to handwashing\n",
    "boot_mean_diff = []\n",
    "for i in range(3000):\n",
    "    boot_before = before_proportion.sample(frac=1, replace=True)\n",
    "    boot_after = after_proportion.sample(frac=1, replace=True)\n",
    "    boot_mean_diff.append( boot_before.mean() - boot_after.mean() )\n",
    "\n",
    "# Calculating a 95% confidence interval from boot_mean_diff \n",
    "confidence_interval = pd.Series(boot_mean_diff).quantile([.025, .975])\n",
    "confidence_interval"
   ]
  },
  {
   "cell_type": "markdown",
   "id": "7c02f4b1",
   "metadata": {
    "papermill": {
     "duration": 0.026352,
     "end_time": "2021-11-30T18:27:10.173607",
     "exception": false,
     "start_time": "2021-11-30T18:27:10.147255",
     "status": "completed"
    },
    "tags": []
   },
   "source": [
    "## 9. The fate of Dr. Semmelweis\n",
    "<p>So handwashing reduced the proportion of deaths by between 6.7 and 10 percentage points, according to a 95% confidence interval. All in all, it would seem that Semmelweis had solid evidence that handwashing was a simple but highly effective procedure that could save many lives.</p>\n",
    "<p>The tragedy is that, despite the evidence, Semmelweis' theory — that childbed fever was caused by some \"substance\" (what we today know as <em>bacteria</em>) from autopsy room corpses — was ridiculed by contemporary scientists. The medical community largely rejected his discovery and in 1849 he was forced to leave the Vienna General Hospital for good.</p>\n",
    "<p>One reason for this was that statistics and statistical arguments were uncommon in medical science in the 1800s. Semmelweis only published his data as long tables of raw data, but he didn't show any graphs nor confidence intervals. If he would have had access to the analysis we've just put together he might have been more successful in getting the Viennese doctors to wash their hands.</p>"
   ]
  },
  {
   "cell_type": "code",
   "execution_count": 10,
   "id": "2c999ee9",
   "metadata": {
    "execution": {
     "iopub.execute_input": "2021-11-30T18:27:10.222781Z",
     "iopub.status.busy": "2021-11-30T18:27:10.222190Z",
     "iopub.status.idle": "2021-11-30T18:27:10.224372Z",
     "shell.execute_reply": "2021-11-30T18:27:10.224906Z"
    },
    "papermill": {
     "duration": 0.02785,
     "end_time": "2021-11-30T18:27:10.225041",
     "exception": false,
     "start_time": "2021-11-30T18:27:10.197191",
     "status": "completed"
    },
    "tags": []
   },
   "outputs": [],
   "source": [
    "# The data Semmelweis collected points to that:\n",
    "doctors_should_wash_their_hands = True"
   ]
  }
 ],
 "metadata": {
  "kernelspec": {
   "display_name": "Python 3",
   "language": "python",
   "name": "python3"
  },
  "language_info": {
   "codemirror_mode": {
    "name": "ipython",
    "version": 3
   },
   "file_extension": ".py",
   "mimetype": "text/x-python",
   "name": "python",
   "nbconvert_exporter": "python",
   "pygments_lexer": "ipython3",
   "version": "3.7.10"
  },
  "papermill": {
   "default_parameters": {},
   "duration": 10.652759,
   "end_time": "2021-11-30T18:27:10.857402",
   "environment_variables": {},
   "exception": null,
   "input_path": "__notebook__.ipynb",
   "output_path": "__notebook__.ipynb",
   "parameters": {},
   "start_time": "2021-11-30T18:27:00.204643",
   "version": "2.3.3"
  }
 },
 "nbformat": 4,
 "nbformat_minor": 5
}
