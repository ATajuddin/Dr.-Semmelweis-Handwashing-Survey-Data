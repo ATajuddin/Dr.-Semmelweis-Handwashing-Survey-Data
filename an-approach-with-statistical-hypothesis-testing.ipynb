{
 "cells": [
  {
   "cell_type": "markdown",
   "id": "15dbfdd0",
   "metadata": {
    "papermill": {
     "duration": 0.025199,
     "end_time": "2021-09-19T19:58:10.725321",
     "exception": false,
     "start_time": "2021-09-19T19:58:10.700122",
     "status": "completed"
    },
    "tags": []
   },
   "source": [
    "# Doctor Semmelweis discovery\r\n",
    "\r\n",
    "## Motivation\r\n",
    "\r\n",
    "The data that Doctor Semmelweis collected is very well documented, so it is a valuable resource for learning how to perform statistical tests comparing two groups. \r\n",
    "\r\n",
    "The knowledge gained in this way can then be used to perform similar tests on other data sets. For example, it can help determine whether the risk of heart attack depends on the degree of obesity or whether smoking cigarettes increases the chance of lung cancer. In technical issues, for example, it can determine whether the same product produced on machine A is different from that produced on machine B.\r\n",
    "\r\n",
    "### Main goal\r\n",
    "\r\n",
    "To determine by statistical methods whether:\r\n",
    "\r\n",
    "+ there is a difference between the mortality rate in the first clinic, where doctors and students delivered babies, and the second clinic, where only midwives did so,\r\n",
    "+ the mortality rate decreased significantly in Doctor Semmelweis' clinic after he recommended that the attendants wash their hands. \r\n",
    "  \r\n",
    "Mandatory handwashing before delivered babies: 1 June 1847. \r\n"
   ]
  },
  {
   "cell_type": "markdown",
   "id": "610b085e",
   "metadata": {
    "papermill": {
     "duration": 0.023357,
     "end_time": "2021-09-19T19:58:10.772863",
     "exception": false,
     "start_time": "2021-09-19T19:58:10.749506",
     "status": "completed"
    },
    "tags": []
   },
   "source": [
    "# Libraries and data loading"
   ]
  },
  {
   "cell_type": "code",
   "execution_count": 1,
   "id": "7e4e4ebc",
   "metadata": {
    "execution": {
     "iopub.execute_input": "2021-09-19T19:58:10.836166Z",
     "iopub.status.busy": "2021-09-19T19:58:10.829603Z",
     "iopub.status.idle": "2021-09-19T19:58:11.809274Z",
     "shell.execute_reply": "2021-09-19T19:58:11.808239Z"
    },
    "papermill": {
     "duration": 1.013292,
     "end_time": "2021-09-19T19:58:11.809545",
     "exception": false,
     "start_time": "2021-09-19T19:58:10.796253",
     "status": "completed"
    },
    "tags": []
   },
   "outputs": [],
   "source": [
    "import pandas as pd\r\n",
    "import matplotlib as plt\r\n",
    "import seaborn as sns\r\n",
    "import numpy as np\r\n",
    "import scipy.stats as st\r\n",
    "from scipy.stats import shapiro, levene, ttest_ind, mannwhitneyu"
   ]
  },
  {
   "cell_type": "code",
   "execution_count": 2,
   "id": "e2af3225",
   "metadata": {
    "execution": {
     "iopub.execute_input": "2021-09-19T19:58:11.866949Z",
     "iopub.status.busy": "2021-09-19T19:58:11.866218Z",
     "iopub.status.idle": "2021-09-19T19:58:11.894920Z",
     "shell.execute_reply": "2021-09-19T19:58:11.895572Z"
    },
    "papermill": {
     "duration": 0.061711,
     "end_time": "2021-09-19T19:58:11.895785",
     "exception": false,
     "start_time": "2021-09-19T19:58:11.834074",
     "status": "completed"
    },
    "tags": []
   },
   "outputs": [
    {
     "name": "stdout",
     "output_type": "stream",
     "text": [
      "df_1: (98, 3) df_2:  (12, 4)\n"
     ]
    }
   ],
   "source": [
    "df_1 = pd.read_csv(\"../input/survey-data/monthly_deaths.csv\")\r\n",
    "df_2 = pd.read_csv(\"../input/survey-data/yearly_deaths_by_clinic.csv\")\r\n",
    "print(\"df_1:\", df_1.shape, \"df_2: \", df_2.shape)"
   ]
  },
  {
   "cell_type": "markdown",
   "id": "f8ae8b42",
   "metadata": {
    "papermill": {
     "duration": 0.024143,
     "end_time": "2021-09-19T19:58:11.944726",
     "exception": false,
     "start_time": "2021-09-19T19:58:11.920583",
     "status": "completed"
    },
    "tags": []
   },
   "source": [
    "# Data preview and manipulations"
   ]
  },
  {
   "cell_type": "code",
   "execution_count": 3,
   "id": "52abd74b",
   "metadata": {
    "execution": {
     "iopub.execute_input": "2021-09-19T19:58:12.005571Z",
     "iopub.status.busy": "2021-09-19T19:58:12.004498Z",
     "iopub.status.idle": "2021-09-19T19:58:12.007809Z",
     "shell.execute_reply": "2021-09-19T19:58:12.008321Z"
    },
    "papermill": {
     "duration": 0.039304,
     "end_time": "2021-09-19T19:58:12.008523",
     "exception": false,
     "start_time": "2021-09-19T19:58:11.969219",
     "status": "completed"
    },
    "tags": []
   },
   "outputs": [
    {
     "name": "stdout",
     "output_type": "stream",
     "text": [
      "df_1 dtypes:\n",
      "date      object\n",
      "births     int64\n",
      "deaths     int64\n",
      "dtype: object\n",
      "\n",
      "df_2 dtypes:\n",
      "year       int64\n",
      "births     int64\n",
      "deaths     int64\n",
      "clinic    object\n",
      "dtype: object\n"
     ]
    }
   ],
   "source": [
    "print(\"df_1 dtypes:\")\r\n",
    "print(df_1.dtypes)\r\n",
    "print()\r\n",
    "print(\"df_2 dtypes:\")\r\n",
    "print(df_2.dtypes)\r\n"
   ]
  },
  {
   "cell_type": "markdown",
   "id": "850988b6",
   "metadata": {
    "papermill": {
     "duration": 0.024448,
     "end_time": "2021-09-19T19:58:12.057862",
     "exception": false,
     "start_time": "2021-09-19T19:58:12.033414",
     "status": "completed"
    },
    "tags": []
   },
   "source": [
    "Since the data type of the *date* variable (df_1) and the *year* variable (df_2) are in the wrong format, we will perform a conversion."
   ]
  },
  {
   "cell_type": "code",
   "execution_count": 4,
   "id": "901748cb",
   "metadata": {
    "execution": {
     "iopub.execute_input": "2021-09-19T19:58:12.127114Z",
     "iopub.status.busy": "2021-09-19T19:58:12.126039Z",
     "iopub.status.idle": "2021-09-19T19:58:12.129180Z",
     "shell.execute_reply": "2021-09-19T19:58:12.128583Z"
    },
    "papermill": {
     "duration": 0.046391,
     "end_time": "2021-09-19T19:58:12.129353",
     "exception": false,
     "start_time": "2021-09-19T19:58:12.082962",
     "status": "completed"
    },
    "tags": []
   },
   "outputs": [],
   "source": [
    "df_1[\"date\"] = pd.to_datetime(df_1.date)\r\n",
    "df_2[\"year\"] = pd.to_datetime(df_2.year, format=\"%Y\").dt.year"
   ]
  },
  {
   "cell_type": "markdown",
   "id": "7b0e35da",
   "metadata": {
    "papermill": {
     "duration": 0.024561,
     "end_time": "2021-09-19T19:58:12.179930",
     "exception": false,
     "start_time": "2021-09-19T19:58:12.155369",
     "status": "completed"
    },
    "tags": []
   },
   "source": [
    "Since the number of births in a given period is not constant, we need to create an additional column with the proportion of deaths in order to compare mortality due to puerperal fever.\r\n",
    "\r\n",
    "$ births \\rightarrow 1 $ <br />\r\n",
    "$ deaths \\rightarrow x $\r\n",
    "\r\n",
    "If we divide deaths by births we get a number between 0 and 1 indicating what proportion of births are those that ended with a death."
   ]
  },
  {
   "cell_type": "code",
   "execution_count": 5,
   "id": "762c0ff0",
   "metadata": {
    "execution": {
     "iopub.execute_input": "2021-09-19T19:58:12.241760Z",
     "iopub.status.busy": "2021-09-19T19:58:12.240600Z",
     "iopub.status.idle": "2021-09-19T19:58:12.243208Z",
     "shell.execute_reply": "2021-09-19T19:58:12.242572Z"
    },
    "papermill": {
     "duration": 0.038881,
     "end_time": "2021-09-19T19:58:12.243375",
     "exception": false,
     "start_time": "2021-09-19T19:58:12.204494",
     "status": "completed"
    },
    "tags": []
   },
   "outputs": [],
   "source": [
    "df_1[\"proportion_deaths\"] = df_1[\"deaths\"]/df_1[\"births\"]\r\n",
    "df_2[\"proportion_deaths\"] = df_2[\"deaths\"]/df_2[\"births\"]"
   ]
  },
  {
   "cell_type": "markdown",
   "id": "639f90f7",
   "metadata": {
    "papermill": {
     "duration": 0.024608,
     "end_time": "2021-09-19T19:58:12.293140",
     "exception": false,
     "start_time": "2021-09-19T19:58:12.268532",
     "status": "completed"
    },
    "tags": []
   },
   "source": [
    "We will add an additional variable to the database to specify whether handwashing was mandatory on a given date."
   ]
  },
  {
   "cell_type": "code",
   "execution_count": 6,
   "id": "5fac1c8e",
   "metadata": {
    "execution": {
     "iopub.execute_input": "2021-09-19T19:58:12.353281Z",
     "iopub.status.busy": "2021-09-19T19:58:12.352517Z",
     "iopub.status.idle": "2021-09-19T19:58:12.355936Z",
     "shell.execute_reply": "2021-09-19T19:58:12.355278Z"
    },
    "papermill": {
     "duration": 0.03811,
     "end_time": "2021-09-19T19:58:12.356139",
     "exception": false,
     "start_time": "2021-09-19T19:58:12.318029",
     "status": "completed"
    },
    "tags": []
   },
   "outputs": [],
   "source": [
    "handwashing = []\r\n",
    "mhw_day = pd.to_datetime(\"1847/6/1\")\r\n",
    "\r\n",
    "for row in df_1[\"date\"]:\r\n",
    "    if row >= mhw_day: handwashing.append(\"mandatory\")\r\n",
    "    else: handwashing.append(\"not mandatory\")\r\n",
    "\r\n",
    "df_1[\"handwashing\"] = handwashing"
   ]
  },
  {
   "cell_type": "markdown",
   "id": "03044c5a",
   "metadata": {
    "papermill": {
     "duration": 0.025332,
     "end_time": "2021-09-19T19:58:12.407032",
     "exception": false,
     "start_time": "2021-09-19T19:58:12.381700",
     "status": "completed"
    },
    "tags": []
   },
   "source": [
    "Then we can make two graphs."
   ]
  },
  {
   "cell_type": "code",
   "execution_count": 7,
   "id": "6943b607",
   "metadata": {
    "_kg_hide-input": true,
    "execution": {
     "iopub.execute_input": "2021-09-19T19:58:12.503458Z",
     "iopub.status.busy": "2021-09-19T19:58:12.502619Z",
     "iopub.status.idle": "2021-09-19T19:58:13.123404Z",
     "shell.execute_reply": "2021-09-19T19:58:13.124438Z"
    },
    "papermill": {
     "duration": 0.692168,
     "end_time": "2021-09-19T19:58:13.124692",
     "exception": false,
     "start_time": "2021-09-19T19:58:12.432524",
     "status": "completed"
    },
    "tags": []
   },
   "outputs": [
    {
     "data": {
      "text/plain": [
       "Text(0.5, 0.98, 'Proportion Deaths by clinic')"
      ]
     },
     "execution_count": 7,
     "metadata": {},
     "output_type": "execute_result"
    },
    {
     "data": {
      "image/png": "[encoded data removed]",
      "text/plain": [
       "<Figure size 647.5x576 with 1 Axes>"
      ]
     },
     "metadata": {},
     "output_type": "display_data"
    }
   ],
   "source": [
    "sns.set_style(\"white\")\r\n",
    "by_clinic = sns.relplot(\r\n",
    "    data=df_2,\r\n",
    "    kind=\"line\",\r\n",
    "    x=\"year\",\r\n",
    "    y=\"proportion_deaths\",\r\n",
    "    hue=\"clinic\",\r\n",
    "    height=8,\r\n",
    "    palette=[\"b\", \"r\"]\r\n",
    ")\r\n",
    "\r\n",
    "by_clinic.set_axis_labels(y_var=\"Proportion Deaths\",\r\n",
    "                          x_var=\"Year\")\r\n",
    "by_clinic.fig.suptitle(\"Proportion Deaths by clinic\")"
   ]
  },
  {
   "cell_type": "code",
   "execution_count": 8,
   "id": "92ffaf38",
   "metadata": {
    "_kg_hide-input": true,
    "execution": {
     "iopub.execute_input": "2021-09-19T19:58:13.243405Z",
     "iopub.status.busy": "2021-09-19T19:58:13.235882Z",
     "iopub.status.idle": "2021-09-19T19:58:14.000808Z",
     "shell.execute_reply": "2021-09-19T19:58:14.001400Z"
    },
    "papermill": {
     "duration": 0.848884,
     "end_time": "2021-09-19T19:58:14.001611",
     "exception": false,
     "start_time": "2021-09-19T19:58:13.152727",
     "status": "completed"
    },
    "tags": []
   },
   "outputs": [
    {
     "data": {
      "text/plain": [
       "Text(0.5, 0.98, 'Effect of mandatory handwashing on proportion deaths')"
      ]
     },
     "execution_count": 8,
     "metadata": {},
     "output_type": "execute_result"
    },
    {
     "data": {
      "image/png": "[encoded data removed]",
      "text/plain": [
       "<Figure size 685.875x576 with 1 Axes>"
      ]
     },
     "metadata": {},
     "output_type": "display_data"
    }
   ],
   "source": [
    "sns.set_style(\"white\")\r\n",
    "by_hwm = sns.relplot(\r\n",
    "    data=df_1,\r\n",
    "    kind=\"line\",\r\n",
    "    x=\"date\",\r\n",
    "    y=\"proportion_deaths\",\r\n",
    "    hue=\"handwashing\",\r\n",
    "    height=8,\r\n",
    "    palette=[\"b\", \"r\"]\r\n",
    ")\r\n",
    "\r\n",
    "by_hwm.set_axis_labels(y_var=\"Proportion Deaths\",\r\n",
    "                          x_var=\"Year\")\r\n",
    "by_hwm.fig.suptitle(\"Effect of mandatory handwashing on proportion deaths\")"
   ]
  },
  {
   "cell_type": "markdown",
   "id": "9338d575",
   "metadata": {
    "papermill": {
     "duration": 0.030454,
     "end_time": "2021-09-19T19:58:14.063188",
     "exception": false,
     "start_time": "2021-09-19T19:58:14.032734",
     "status": "completed"
    },
    "tags": []
   },
   "source": [
    "As we can see both graphs indicate that there is a difference in the proportion of deaths for: clinics and introduction of handwashing mandatory, respectively."
   ]
  },
  {
   "cell_type": "markdown",
   "id": "72e7e4ea",
   "metadata": {
    "papermill": {
     "duration": 0.029671,
     "end_time": "2021-09-19T19:58:14.123816",
     "exception": false,
     "start_time": "2021-09-19T19:58:14.094145",
     "status": "completed"
    },
    "tags": []
   },
   "source": [
    "# Confidence Intervals for means\r\n",
    "\r\n",
    "Since we are interested in the mean of the proportion of deaths, we can calculate confidence intervals for the mean.\r\n",
    "\r\n",
    "$ \\bar{x} \\pm t\\frac{s}{\\sqrt{n}} $ \r\n",
    "\r\n",
    "where: $\\bar{x}$ - sample mean, $t$ - the value of the chosen distribution with $n-1$ degrees of freedom (for small samples t-distribution, for large samples normal distribution), $s$ - sample standard deviation, $n$ - sample size\r\n",
    "\r\n",
    "In Python $\\frac{s}{\\sqrt{n}}$ can be calculated manually as `(np.std(x, ddof=1)/np.sqrt(np.size(x)))` or usung the function `sem(x)` from *scipy.stats*"
   ]
  },
  {
   "cell_type": "markdown",
   "id": "72b12e54",
   "metadata": {
    "papermill": {
     "duration": 0.029807,
     "end_time": "2021-09-19T19:58:14.183847",
     "exception": false,
     "start_time": "2021-09-19T19:58:14.154040",
     "status": "completed"
    },
    "tags": []
   },
   "source": [
    "## According to the clinic"
   ]
  },
  {
   "cell_type": "code",
   "execution_count": 9,
   "id": "1b840060",
   "metadata": {
    "_kg_hide-input": true,
    "execution": {
     "iopub.execute_input": "2021-09-19T19:58:14.263500Z",
     "iopub.status.busy": "2021-09-19T19:58:14.253222Z",
     "iopub.status.idle": "2021-09-19T19:58:14.272909Z",
     "shell.execute_reply": "2021-09-19T19:58:14.273477Z"
    },
    "papermill": {
     "duration": 0.059728,
     "end_time": "2021-09-19T19:58:14.273680",
     "exception": false,
     "start_time": "2021-09-19T19:58:14.213952",
     "status": "completed"
    },
    "tags": []
   },
   "outputs": [
    {
     "name": "stdout",
     "output_type": "stream",
     "text": [
      "Confidence intervals for mean of proportion deaths in clinic 1:\n",
      "mean:  proportion_deaths    0.098505\n",
      "dtype: float64\n",
      "Interval: [0.06409911]  -  [0.13291143]\n",
      "\n",
      "Confidence intervals for mean of proportion deaths in clinic 2:\n",
      "mean:  proportion_deaths    0.0404\n",
      "dtype: float64\n",
      "Interval: [0.0167942]  -  [0.06400567]\n"
     ]
    }
   ],
   "source": [
    "degreesFreedom_c1 = len(df_2[df_2[\"clinic\"] == \"clinic 1\"])-1\r\n",
    "degreesFreedom_c2 = len(df_2[df_2[\"clinic\"] == \"clinic 2\"])-1\r\n",
    "alpha = 0.95\r\n",
    "\r\n",
    "clinic_1 = df_2.loc[df_2[\"clinic\"] == \"clinic 1\", [\"proportion_deaths\"]]\r\n",
    "clinic_2 = df_2.loc[df_2[\"clinic\"] == \"clinic 2\", [\"proportion_deaths\"]]\r\n",
    "\r\n",
    "ci_1 = st.t.interval(alpha=alpha, \r\n",
    "                     df=degreesFreedom_c1,\r\n",
    "                     loc = np.mean(clinic_1),\r\n",
    "                     scale = st.sem(clinic_1))\r\n",
    "\r\n",
    "ci_2 = st.t.interval(alpha=alpha,\r\n",
    "                     df=degreesFreedom_c2,\r\n",
    "                     loc=np.mean(clinic_2),\r\n",
    "                     scale=st.sem(clinic_2))\r\n",
    "\r\n",
    "print(\"Confidence intervals for mean of proportion deaths in clinic 1:\")\r\n",
    "print(\"mean: \", np.mean(clinic_1))\r\n",
    "print(\"Interval:\", ci_1[0], \" - \", ci_1[1])\r\n",
    "print()\r\n",
    "print(\"Confidence intervals for mean of proportion deaths in clinic 2:\")\r\n",
    "print(\"mean: \", np.mean(clinic_2))\r\n",
    "print(\"Interval:\", ci_2[0], \" - \", ci_2[1])"
   ]
  },
  {
   "cell_type": "markdown",
   "id": "cf4b4942",
   "metadata": {
    "papermill": {
     "duration": 0.029702,
     "end_time": "2021-09-19T19:58:14.333635",
     "exception": false,
     "start_time": "2021-09-19T19:58:14.303933",
     "status": "completed"
    },
    "tags": []
   },
   "source": [
    "> There is a 95% chance that the confidence interval of [0.064, 0.133] contains the true population mean of proportion deaths for clinic 1.\r\n",
    "\r\n",
    "> There is a 95% chance that the confidence interval of [0.016, 0.064] contains the true population mean of proportion deaths for clinic 2.\r\n",
    "\r\n",
    "Comparing the two sample means, it can be concluded that the proportion of deaths in the clinic where births were delivered by midwives was lower than in the clinic where births were also delivered by doctors and students.\r\n",
    "\r\n",
    "In order to formulate a final judgment, an appropriate statistical test (*included in the next section*) must be performed."
   ]
  },
  {
   "cell_type": "markdown",
   "id": "87b9f5cf",
   "metadata": {
    "papermill": {
     "duration": 0.029571,
     "end_time": "2021-09-19T19:58:14.394710",
     "exception": false,
     "start_time": "2021-09-19T19:58:14.365139",
     "status": "completed"
    },
    "tags": []
   },
   "source": [
    "## According to the mandatory hand washing"
   ]
  },
  {
   "cell_type": "code",
   "execution_count": 10,
   "id": "5355162c",
   "metadata": {
    "execution": {
     "iopub.execute_input": "2021-09-19T19:58:14.463355Z",
     "iopub.status.busy": "2021-09-19T19:58:14.461064Z",
     "iopub.status.idle": "2021-09-19T19:58:14.467666Z",
     "shell.execute_reply": "2021-09-19T19:58:14.466954Z"
    },
    "papermill": {
     "duration": 0.043058,
     "end_time": "2021-09-19T19:58:14.467823",
     "exception": false,
     "start_time": "2021-09-19T19:58:14.424765",
     "status": "completed"
    },
    "tags": []
   },
   "outputs": [
    {
     "data": {
      "text/plain": [
       "not mandatory    76\n",
       "mandatory        22\n",
       "Name: handwashing, dtype: int64"
      ]
     },
     "execution_count": 10,
     "metadata": {},
     "output_type": "execute_result"
    }
   ],
   "source": [
    "df_1.handwashing.value_counts()"
   ]
  },
  {
   "cell_type": "markdown",
   "id": "7995e877",
   "metadata": {
    "papermill": {
     "duration": 0.030231,
     "end_time": "2021-09-19T19:58:14.528832",
     "exception": false,
     "start_time": "2021-09-19T19:58:14.498601",
     "status": "completed"
    },
    "tags": []
   },
   "source": [
    "Since we have less than 30 observations for mandatory handwashing we will use the t-distribution further on."
   ]
  },
  {
   "cell_type": "code",
   "execution_count": 11,
   "id": "16fdad3f",
   "metadata": {
    "execution": {
     "iopub.execute_input": "2021-09-19T19:58:14.600098Z",
     "iopub.status.busy": "2021-09-19T19:58:14.593949Z",
     "iopub.status.idle": "2021-09-19T19:58:14.603469Z",
     "shell.execute_reply": "2021-09-19T19:58:14.603921Z"
    },
    "papermill": {
     "duration": 0.044786,
     "end_time": "2021-09-19T19:58:14.604142",
     "exception": false,
     "start_time": "2021-09-19T19:58:14.559356",
     "status": "completed"
    },
    "tags": []
   },
   "outputs": [
    {
     "data": {
      "text/plain": [
       "handwashing\n",
       "mandatory        0.021093\n",
       "not mandatory    0.105050\n",
       "Name: proportion_deaths, dtype: float64"
      ]
     },
     "execution_count": 11,
     "metadata": {},
     "output_type": "execute_result"
    }
   ],
   "source": [
    "df_1.groupby(\"handwashing\").proportion_deaths.mean()"
   ]
  },
  {
   "cell_type": "code",
   "execution_count": 12,
   "id": "3f89e29f",
   "metadata": {
    "_kg_hide-input": true,
    "execution": {
     "iopub.execute_input": "2021-09-19T19:58:14.676265Z",
     "iopub.status.busy": "2021-09-19T19:58:14.671094Z",
     "iopub.status.idle": "2021-09-19T19:58:14.695320Z",
     "shell.execute_reply": "2021-09-19T19:58:14.695868Z"
    },
    "papermill": {
     "duration": 0.060847,
     "end_time": "2021-09-19T19:58:14.696092",
     "exception": false,
     "start_time": "2021-09-19T19:58:14.635245",
     "status": "completed"
    },
    "tags": []
   },
   "outputs": [
    {
     "name": "stdout",
     "output_type": "stream",
     "text": [
      "Confidence intervals for mean of proportion deaths for not mandatory handwashing:\n",
      "mean:  proportion_deaths    0.10505\n",
      "dtype: float64\n",
      "Interval: [0.08888773]  -  [0.12121224]\n",
      "\n",
      "Confidence intervals for mean of proportion deaths for mandatory handwashing:\n",
      "mean:  proportion_deaths    0.021093\n",
      "dtype: float64\n",
      "Interval: [0.01435474]  -  [0.02783201]\n"
     ]
    }
   ],
   "source": [
    "degreesFreedom_mhwN = len(df_1[df_1[\"handwashing\"] == \"not mandatory\"])-1\r\n",
    "degreesFreedom_mhwY = len(df_1[df_1[\"handwashing\"] == \"mandatory\"])-1\r\n",
    "alpha = 0.95\r\n",
    "\r\n",
    "handwashing_N = df_1.loc[df_1[\"handwashing\"] == \"not mandatory\", [\"proportion_deaths\"]]\r\n",
    "handwashing_Y = df_1.loc[df_1[\"handwashing\"] == \"mandatory\", [\"proportion_deaths\"]]\r\n",
    "\r\n",
    "ci_N = st.t.interval(alpha=alpha,\r\n",
    "                     df=degreesFreedom_mhwN,\r\n",
    "                     loc=np.mean(handwashing_N),\r\n",
    "                     scale=st.sem(handwashing_N))\r\n",
    "\r\n",
    "ci_Y = st.t.interval(alpha=alpha,\r\n",
    "                     df=degreesFreedom_mhwY,\r\n",
    "                     loc=np.mean(handwashing_Y),\r\n",
    "                     scale=st.sem(handwashing_Y))\r\n",
    "\r\n",
    "print(\"Confidence intervals for mean of proportion deaths for not mandatory handwashing:\")\r\n",
    "print(\"mean: \", np.mean(handwashing_N))\r\n",
    "print(\"Interval:\", ci_N[0], \" - \", ci_N[1])\r\n",
    "print()\r\n",
    "print(\"Confidence intervals for mean of proportion deaths for mandatory handwashing:\")\r\n",
    "print(\"mean: \", np.mean(handwashing_Y))\r\n",
    "print(\"Interval:\", ci_Y[0], \" - \", ci_Y[1])\r\n"
   ]
  },
  {
   "cell_type": "markdown",
   "id": "783c9b4e",
   "metadata": {
    "papermill": {
     "duration": 0.032449,
     "end_time": "2021-09-19T19:58:14.760332",
     "exception": false,
     "start_time": "2021-09-19T19:58:14.727883",
     "status": "completed"
    },
    "tags": []
   },
   "source": [
    "> There is a 95% chance that the confidence interval of [0.087, 0.122] contains the true population mean of proportion deaths for not mandatory handwashing time period.\r\n",
    "\r\n",
    "> There is a 95% chance that the confidence interval of [0.014, 0.028] contains the true population mean of proportion deaths for mandatory handwashing time period.\r\n",
    "\r\n",
    "By comparing the two sample means, it can be believed that the enforcement of mandatory handwashing significantly reduced the average death proportion.\r\n",
    "\r\n",
    "In order to formulate a final judgment, an appropriate statistical test (*included in the next section*) must be performed."
   ]
  },
  {
   "cell_type": "markdown",
   "id": "8b29526a",
   "metadata": {
    "papermill": {
     "duration": 0.03118,
     "end_time": "2021-09-19T19:58:14.823437",
     "exception": false,
     "start_time": "2021-09-19T19:58:14.792257",
     "status": "completed"
    },
    "tags": []
   },
   "source": [
    "# Hypothesis testing\r\n",
    "\r\n",
    "...is a procedure that allows you to test your assumptions about the general population without conducting a full population survey.\r\n",
    "\r\n",
    "In our case, we want to prove that the average death rate for the two study groups is statistically different. That is:\r\n",
    "1. the mean proportion of deaths in clinic 1 and clinic 2 is significantly different,\r\n",
    "2. the mean proportion of deaths before the enforcement of mandatory handwashing and after the enforcement of mandatory handwashing is significantly different."
   ]
  },
  {
   "cell_type": "markdown",
   "id": "fc6516ab",
   "metadata": {
    "papermill": {
     "duration": 0.031434,
     "end_time": "2021-09-19T19:58:14.887448",
     "exception": false,
     "start_time": "2021-09-19T19:58:14.856014",
     "status": "completed"
    },
    "tags": []
   },
   "source": [
    "Based on the Polish textbook \"Przystępny kurs statystyki, Tom 1, StatSoft\" (eng. *Accessible Course in Statistics, Volume 1, StatSoft*), the following hypothesis testing graph can be drawn.\r\n",
    "\r\n",
    "<img src=\"https://i.imgur.com/yVVcIXJ.png\">\r\n",
    "\r\n",
    "Since I could not find the Cochran-Cox test as it is presented in the above mentioned publication, we can use the Welch's test. \r\n",
    "\r\n",
    "------\r\n",
    "\r\n",
    "For those interested in the difference between the two tests, I have included the test statistic formula for the Welch's test and the Cochran-Cox test.\r\n",
    "\r\n",
    "Welch's test: \r\n",
    "\r\n",
    "$W = \\frac{m_{1}-m_{2}}{\\sqrt{\\frac{s_{1}^{2}}{n_{1}}+\\frac{s_{2}^{2}}{n_{2}}}}$\r\n",
    "\r\n",
    "Cochran-Cox test: \r\n",
    "\r\n",
    "$CC =\\frac{m_{1}-m_{2}}{\\sqrt{\\frac{s_{1}^{2}}{n_{1}-1}+\\frac{s_{2}^{2}}{n_{2}-1}}}$\r\n",
    "\r\n",
    "where: $s^2$ - sample variance, $m$ - sample mean, $n$ - sample size.\r\n",
    "\r\n",
    "*If anyone has found additional information on this then please comment.* "
   ]
  },
  {
   "cell_type": "markdown",
   "id": "92ad4d47",
   "metadata": {
    "papermill": {
     "duration": 0.031182,
     "end_time": "2021-09-19T19:58:14.950552",
     "exception": false,
     "start_time": "2021-09-19T19:58:14.919370",
     "status": "completed"
    },
    "tags": []
   },
   "source": [
    "## Assumption of normality of distribution"
   ]
  },
  {
   "cell_type": "code",
   "execution_count": 13,
   "id": "21b0c39e",
   "metadata": {
    "execution": {
     "iopub.execute_input": "2021-09-19T19:58:15.020692Z",
     "iopub.status.busy": "2021-09-19T19:58:15.019640Z",
     "iopub.status.idle": "2021-09-19T19:58:15.028225Z",
     "shell.execute_reply": "2021-09-19T19:58:15.027434Z"
    },
    "papermill": {
     "duration": 0.044814,
     "end_time": "2021-09-19T19:58:15.028438",
     "exception": false,
     "start_time": "2021-09-19T19:58:14.983624",
     "status": "completed"
    },
    "tags": []
   },
   "outputs": [
    {
     "name": "stdout",
     "output_type": "stream",
     "text": [
      "Clinic 1:  ShapiroResult(statistic=0.8554169535636902, pvalue=0.17398862540721893)\n",
      "Clinic 2:  ShapiroResult(statistic=0.8636137843132019, pvalue=0.20191331207752228)\n",
      "Not mandatory handwashing:  ShapiroResult(statistic=0.9461299180984497, pvalue=0.002843976253643632)\n",
      "Mandatory handwashing:  ShapiroResult(statistic=0.9419049620628357, pvalue=0.21663230657577515)\n"
     ]
    }
   ],
   "source": [
    "# H0 = the sample comes from a normal distribution.\r\n",
    "# H1 = the sample is not coming from a normal distribution.\r\n",
    "# alpha = 0.05\r\n",
    "\r\n",
    "print(\"Clinic 1: \", shapiro(clinic_1))\r\n",
    "print(\"Clinic 2: \", shapiro(clinic_2))\r\n",
    "print(\"Not mandatory handwashing: \", shapiro(handwashing_N))\r\n",
    "print(\"Mandatory handwashing: \", shapiro(handwashing_Y))"
   ]
  },
  {
   "cell_type": "markdown",
   "id": "f08138a5",
   "metadata": {
    "papermill": {
     "duration": 0.031791,
     "end_time": "2021-09-19T19:58:15.093946",
     "exception": false,
     "start_time": "2021-09-19T19:58:15.062155",
     "status": "completed"
    },
    "tags": []
   },
   "source": [
    "For the data from both clinics, there are no reasons to reject the null hypothesis, so we can move on to testing for equality of variance.\r\n",
    "\r\n",
    "Not mandatory handwashing has a p-value < $\\alpha$, so to test the significance of the difference between the means we will use a non-parametric test."
   ]
  },
  {
   "cell_type": "markdown",
   "id": "20262659",
   "metadata": {
    "papermill": {
     "duration": 0.031819,
     "end_time": "2021-09-19T19:58:15.158021",
     "exception": false,
     "start_time": "2021-09-19T19:58:15.126202",
     "status": "completed"
    },
    "tags": []
   },
   "source": [
    "## Assumption of equality of variances"
   ]
  },
  {
   "cell_type": "code",
   "execution_count": 14,
   "id": "8bfb69b9",
   "metadata": {
    "execution": {
     "iopub.execute_input": "2021-09-19T19:58:15.228449Z",
     "iopub.status.busy": "2021-09-19T19:58:15.227759Z",
     "iopub.status.idle": "2021-09-19T19:58:15.232646Z",
     "shell.execute_reply": "2021-09-19T19:58:15.232025Z"
    },
    "papermill": {
     "duration": 0.042538,
     "end_time": "2021-09-19T19:58:15.232801",
     "exception": false,
     "start_time": "2021-09-19T19:58:15.190263",
     "status": "completed"
    },
    "tags": []
   },
   "outputs": [
    {
     "name": "stdout",
     "output_type": "stream",
     "text": [
      "LeveneResult(statistic=0.18473478000163876, pvalue=0.6764496182171921)\n"
     ]
    }
   ],
   "source": [
    "# H0: the variances are equal across all samples/groups.\r\n",
    "# H1: the variances are not equal across all samples/groups.\r\n",
    "# alpha = 0.05\r\n",
    "\r\n",
    "print(levene(clinic_1[\"proportion_deaths\"], clinic_2[\"proportion_deaths\"]))"
   ]
  },
  {
   "cell_type": "markdown",
   "id": "409edda5",
   "metadata": {
    "papermill": {
     "duration": 0.032306,
     "end_time": "2021-09-19T19:58:15.297765",
     "exception": false,
     "start_time": "2021-09-19T19:58:15.265459",
     "status": "completed"
    },
    "tags": []
   },
   "source": [
    "p-value > $\\alpha$ therefore there is no reason to reject the null hypothesis. Assume that the variances in both samples are equal."
   ]
  },
  {
   "cell_type": "markdown",
   "id": "d83a28d7",
   "metadata": {
    "papermill": {
     "duration": 0.032595,
     "end_time": "2021-09-19T19:58:15.362782",
     "exception": false,
     "start_time": "2021-09-19T19:58:15.330187",
     "status": "completed"
    },
    "tags": []
   },
   "source": [
    "## Two Sample t-test\r\n",
    "\r\n",
    "Assumptions:\r\n",
    "+ The observations in one sample should be independent of the observations in the other sample.\r\n",
    "+ The data should be approximately normally distributed.\r\n",
    "+ The two samples should have approximately the same variance.\r\n",
    "\r\n",
    "We met the above assumptions for the data regarding clinics.\r\n",
    "\r\n",
    "> H0: the two population means are equal. <br />\r\n",
    "> H1: the two population means are not equal. <br />\r\n",
    "> $\\alpha = 0.05$"
   ]
  },
  {
   "cell_type": "code",
   "execution_count": 15,
   "id": "05edc738",
   "metadata": {
    "execution": {
     "iopub.execute_input": "2021-09-19T19:58:15.433231Z",
     "iopub.status.busy": "2021-09-19T19:58:15.432461Z",
     "iopub.status.idle": "2021-09-19T19:58:15.439136Z",
     "shell.execute_reply": "2021-09-19T19:58:15.438451Z"
    },
    "papermill": {
     "duration": 0.043505,
     "end_time": "2021-09-19T19:58:15.439304",
     "exception": false,
     "start_time": "2021-09-19T19:58:15.395799",
     "status": "completed"
    },
    "tags": []
   },
   "outputs": [
    {
     "name": "stdout",
     "output_type": "stream",
     "text": [
      "Ttest_indResult(statistic=array([3.5796971]), pvalue=array([0.00501423]))\n"
     ]
    }
   ],
   "source": [
    "print(ttest_ind(clinic_1, clinic_2, equal_var=True))"
   ]
  },
  {
   "cell_type": "markdown",
   "id": "9593df19",
   "metadata": {
    "papermill": {
     "duration": 0.032723,
     "end_time": "2021-09-19T19:58:15.505162",
     "exception": false,
     "start_time": "2021-09-19T19:58:15.472439",
     "status": "completed"
    },
    "tags": []
   },
   "source": [
    "because p-value < $\\alpha$ we reject the null hypothesis in favor of the alternative hypothesis. This means that the mean proportion of deaths in clinic one and clinic two are significantly different from each other."
   ]
  },
  {
   "cell_type": "markdown",
   "id": "8d1392f4",
   "metadata": {
    "papermill": {
     "duration": 0.032441,
     "end_time": "2021-09-19T19:58:15.570565",
     "exception": false,
     "start_time": "2021-09-19T19:58:15.538124",
     "status": "completed"
    },
    "tags": []
   },
   "source": [
    "## Mann-Whitney U Test\r\n",
    "\r\n",
    "The Mann-Whitney U test is a nonparametric statistical significance test for determining whether two independent samples were drawn from a population with the same distribution. The test determines whether it is equally likely that any randomly selected observation from one sample will be greater or less than a sample in the other distribution [(Source)](https://machinelearningmastery.com/nonparametric-statistical-significance-tests-in-python/). \r\n",
    "\r\n",
    "Since this is a non-parametric test, we do not need to meet any assumptions.\r\n",
    "\r\n",
    "> H0: the sample distributions are equal. <br />\r\n",
    "> H1: the sample distributions are not equal. <br />\r\n",
    "> $\\alpha = 0.05$"
   ]
  },
  {
   "cell_type": "code",
   "execution_count": 16,
   "id": "352ee83e",
   "metadata": {
    "execution": {
     "iopub.execute_input": "2021-09-19T19:58:15.644893Z",
     "iopub.status.busy": "2021-09-19T19:58:15.644171Z",
     "iopub.status.idle": "2021-09-19T19:58:15.646999Z",
     "shell.execute_reply": "2021-09-19T19:58:15.647500Z"
    },
    "papermill": {
     "duration": 0.043945,
     "end_time": "2021-09-19T19:58:15.647693",
     "exception": false,
     "start_time": "2021-09-19T19:58:15.603748",
     "status": "completed"
    },
    "tags": []
   },
   "outputs": [
    {
     "name": "stdout",
     "output_type": "stream",
     "text": [
      "MannwhitneyuResult(statistic=array([1505.]), pvalue=array([1.25602638e-08]))\n"
     ]
    }
   ],
   "source": [
    "print(mannwhitneyu(handwashing_N, handwashing_Y))"
   ]
  },
  {
   "cell_type": "markdown",
   "id": "baf47d14",
   "metadata": {
    "papermill": {
     "duration": 0.032896,
     "end_time": "2021-09-19T19:58:15.714083",
     "exception": false,
     "start_time": "2021-09-19T19:58:15.681187",
     "status": "completed"
    },
    "tags": []
   },
   "source": [
    "Because p-value < alpha we reject the null hypothesis in favor of the alternative hypothesis. This means that the sample distribution for the period when handwashing was mandatory is different from the one when it wasn't."
   ]
  },
  {
   "cell_type": "markdown",
   "id": "805634f3",
   "metadata": {
    "papermill": {
     "duration": 0.033021,
     "end_time": "2021-09-19T19:58:15.780645",
     "exception": false,
     "start_time": "2021-09-19T19:58:15.747624",
     "status": "completed"
    },
    "tags": []
   },
   "source": [
    "# Conclusions\r\n",
    "\r\n",
    "Based on both statistical tests and the estimation of the mean with confidence intervals, it can be concluded with certainty that:\r\n",
    "\r\n",
    "1. In the clinic where only midwives delivered, the percentage of deaths due to puerperal fever is significantly lower than in the clinic where doctors and students also delivered.\r\n",
    "2. The percentage of deaths in Doctor Semmelweis' clinic significantly decreased after the introduction of mandatory hand washing."
   ]
  }
 ],
 "metadata": {
  "kernelspec": {
   "display_name": "Python 3",
   "language": "python",
   "name": "python3"
  },
  "language_info": {
   "codemirror_mode": {
    "name": "ipython",
    "version": 3
   },
   "file_extension": ".py",
   "mimetype": "text/x-python",
   "name": "python",
   "nbconvert_exporter": "python",
   "pygments_lexer": "ipython3",
   "version": "3.7.10"
  },
  "papermill": {
   "default_parameters": {},
   "duration": 15.937022,
   "end_time": "2021-09-19T19:58:17.363698",
   "environment_variables": {},
   "exception": null,
   "input_path": "__notebook__.ipynb",
   "output_path": "__notebook__.ipynb",
   "parameters": {},
   "start_time": "2021-09-19T19:58:01.426676",
   "version": "2.3.3"
  }
 },
 "nbformat": 4,
 "nbformat_minor": 5
}
